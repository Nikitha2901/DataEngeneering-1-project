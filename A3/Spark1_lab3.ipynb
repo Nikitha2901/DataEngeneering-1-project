{
 "cells": [
  {
   "cell_type": "code",
   "execution_count": 118,
   "id": "5f34fd05-ae3b-4aaf-8deb-5352b18d7c3d",
   "metadata": {},
   "outputs": [],
   "source": [
    "from pyspark.sql import SparkSession\n",
    "from operator import add\n",
    "import pandas as pd\n",
    "import string\n",
    "\n",
    "spark_session = SparkSession\\\n",
    "        .builder\\\n",
    "        .master(\"spark://192.168.2.250:7077\") \\\n",
    "        .appName(\"Nikitha_Krishna Murthy_lab 3\")\\\n",
    "        .config(\"spark.dynamicAllocation.enabled\", True)\\\n",
    "        .config(\"spark.dynamicAllocation.shuffleTracking.enabled\",True)\\\n",
    "        .config(\"spark.shuffle.service.enabled\", False)\\\n",
    "        .config(\"spark.dynamicAllocation.executorIdleTimeout\",\"300s\")\\\n",
    "        .config(\"spark.executor.cores\",2)\\\n",
    "        .config(\"spark.driver.port\",9999)\\\n",
    "        .config(\"spark.blockManager.port\",10005)\\\n",
    "        .getOrCreate()\n",
    "spark_context = spark_session.sparkContext\n",
    "\n",
    "spark_context.setLogLevel(\"ERROR\")\n",
    "\n"
   ]
  },
  {
   "cell_type": "code",
   "execution_count": 119,
   "id": "b4b8396b-d14e-43c4-955a-a02f908b5270",
   "metadata": {},
   "outputs": [
    {
     "name": "stderr",
     "output_type": "stream",
     "text": [
      "[Stage 0:=======================================>                   (2 + 1) / 3]\r"
     ]
    },
    {
     "name": "stdout",
     "output_type": "stream",
     "text": [
      "1968800\n"
     ]
    },
    {
     "name": "stderr",
     "output_type": "stream",
     "text": [
      "                                                                                \r"
     ]
    }
   ],
   "source": [
    "#reading the english transcript lines for danish language and then counting number of lines\n",
    "RDD_EN = spark_context.textFile(\"hdfs://192.168.2.250:9000/europarl/europarl-v7.da-en.en\")\n",
    "print(RDD_EN.count())"
   ]
  },
  {
   "cell_type": "code",
   "execution_count": 120,
   "id": "4c1f62dc-2de5-42e4-8d34-fa03c27c2586",
   "metadata": {},
   "outputs": [
    {
     "name": "stderr",
     "output_type": "stream",
     "text": [
      "[Stage 1:===================>                                       (1 + 2) / 3]\r"
     ]
    },
    {
     "name": "stdout",
     "output_type": "stream",
     "text": [
      "1968800\n"
     ]
    },
    {
     "name": "stderr",
     "output_type": "stream",
     "text": [
      "                                                                                \r"
     ]
    }
   ],
   "source": [
    "#reading the danish transcript lines for danish language and then counting number of lines\n",
    "RDD_DA = spark_context.textFile(\"hdfs://192.168.2.250:9000/europarl/europarl-v7.da-en.da\")\n",
    "print(RDD_DA.count())"
   ]
  },
  {
   "cell_type": "code",
   "execution_count": 4,
   "id": "02b65cd0-0486-4c57-b358-aa71e61b8c56",
   "metadata": {},
   "outputs": [
    {
     "data": {
      "text/plain": [
       "3"
      ]
     },
     "execution_count": 4,
     "metadata": {},
     "output_type": "execute_result"
    }
   ],
   "source": [
    "RDD_EN.getNumPartitions()#number of partitions for first RDD"
   ]
  },
  {
   "cell_type": "code",
   "execution_count": 11,
   "id": "c92a940a-e375-45bb-9e03-2edff6f32cfd",
   "metadata": {},
   "outputs": [
    {
     "data": {
      "text/plain": [
       "3"
      ]
     },
     "execution_count": 11,
     "metadata": {},
     "output_type": "execute_result"
    }
   ],
   "source": [
    "RDD_DA.getNumPartitions()#number of partitions for first RDD\n"
   ]
  },
  {
   "cell_type": "code",
   "execution_count": 121,
   "id": "deebd32e-d37d-40e0-856a-87b62358f512",
   "metadata": {},
   "outputs": [],
   "source": [
    "def tokenizer_lower(lines):\n",
    "    X=lines.translate(str.maketrans('','',string.punctuation))\n",
    "    return X.lower().split()"
   ]
  },
  {
   "cell_type": "code",
   "execution_count": 122,
   "id": "5dfc47ad-f5d6-4a34-8005-b4915df2178e",
   "metadata": {},
   "outputs": [
    {
     "name": "stdout",
     "output_type": "stream",
     "text": [
      "['resumption', 'of', 'the', 'session']\n",
      "['i', 'declare', 'resumed', 'the', 'session', 'of', 'the', 'european', 'parliament', 'adjourned', 'on', 'friday', '17', 'december', '1999', 'and', 'i', 'would', 'like', 'once', 'again', 'to', 'wish', 'you', 'a', 'happy', 'new', 'year', 'in', 'the', 'hope', 'that', 'you', 'enjoyed', 'a', 'pleasant', 'festive', 'period']\n",
      "['although', 'as', 'you', 'will', 'have', 'seen', 'the', 'dreaded', 'millennium', 'bug', 'failed', 'to', 'materialise', 'still', 'the', 'people', 'in', 'a', 'number', 'of', 'countries', 'suffered', 'a', 'series', 'of', 'natural', 'disasters', 'that', 'truly', 'were', 'dreadful']\n",
      "['you', 'have', 'requested', 'a', 'debate', 'on', 'this', 'subject', 'in', 'the', 'course', 'of', 'the', 'next', 'few', 'days', 'during', 'this', 'partsession']\n",
      "['in', 'the', 'meantime', 'i', 'should', 'like', 'to', 'observe', 'a', 'minute', 's', 'silence', 'as', 'a', 'number', 'of', 'members', 'have', 'requested', 'on', 'behalf', 'of', 'all', 'the', 'victims', 'concerned', 'particularly', 'those', 'of', 'the', 'terrible', 'storms', 'in', 'the', 'various', 'countries', 'of', 'the', 'european', 'union']\n",
      "['please', 'rise', 'then', 'for', 'this', 'minute', 's', 'silence']\n",
      "['the', 'house', 'rose', 'and', 'observed', 'a', 'minute', 's', 'silence']\n",
      "['madam', 'president', 'on', 'a', 'point', 'of', 'order']\n",
      "['you', 'will', 'be', 'aware', 'from', 'the', 'press', 'and', 'television', 'that', 'there', 'have', 'been', 'a', 'number', 'of', 'bomb', 'explosions', 'and', 'killings', 'in', 'sri', 'lanka']\n",
      "['one', 'of', 'the', 'people', 'assassinated', 'very', 'recently', 'in', 'sri', 'lanka', 'was', 'mr', 'kumar', 'ponnambalam', 'who', 'had', 'visited', 'the', 'european', 'parliament', 'just', 'a', 'few', 'months', 'ago']\n"
     ]
    },
    {
     "name": "stderr",
     "output_type": "stream",
     "text": [
      "                                                                                \r"
     ]
    }
   ],
   "source": [
    "#printing first 10 lines preprocessed English transcript in lowercase and after split\n",
    "preprocess_EN=RDD_EN.map(tokenizer_lower)\n",
    "for line in preprocess_EN.take(10):\n",
    "    print(line)"
   ]
  },
  {
   "cell_type": "code",
   "execution_count": 123,
   "id": "bed0c910-865f-4de4-97d8-8569522eb3e0",
   "metadata": {},
   "outputs": [
    {
     "name": "stderr",
     "output_type": "stream",
     "text": [
      "[Stage 3:>                                                          (0 + 1) / 1]\r"
     ]
    },
    {
     "name": "stdout",
     "output_type": "stream",
     "text": [
      "['genoptagelse', 'af', 'sessionen']\n",
      "['jeg', 'erklærer', 'europaparlamentets', 'session', 'der', 'blev', 'afbrudt', 'fredag', 'den', '17', 'december', 'for', 'genoptaget', 'endnu', 'en', 'gang', 'vil', 'jeg', 'ønske', 'dem', 'godt', 'nytår', 'og', 'jeg', 'håber', 'de', 'har', 'haft', 'en', 'god', 'ferie']\n",
      "['som', 'de', 'kan', 'se', 'indfandt', 'det', 'store', 'år', '2000problem', 'sig', 'ikke', 'til', 'gengæld', 'har', 'borgerne', 'i', 'en', 'del', 'af', 'medlemslandene', 'været', 'ramt', 'af', 'meget', 'forfærdelige', 'naturkatastrofer']\n",
      "['de', 'har', 'udtrykt', 'ønske', 'om', 'en', 'debat', 'om', 'dette', 'emne', 'i', 'løbet', 'af', 'mødeperioden']\n",
      "['i', 'mellemtiden', 'ønsker', 'jeg', 'som', 'også', 'en', 'del', 'kolleger', 'har', 'anmodet', 'om', 'at', 'vi', 'iagttager', 'et', 'minuts', 'stilhed', 'til', 'minde', 'om', 'ofrene', 'for', 'bla', 'stormene', 'i', 'de', 'medlemslande', 'der', 'blev', 'ramt']\n",
      "['jeg', 'opfordrer', 'dem', 'til', 'stående', 'at', 'iagttage', 'et', 'minuts', 'stilhed']\n",
      "['parlamentet', 'iagttog', 'stående', 'et', 'minuts', 'stilhed']\n",
      "['fru', 'formand', 'en', 'bemærkning', 'til', 'forretningsordenen']\n",
      "['gennem', 'pressen', 'og', 'tv', 'vil', 'de', 'være', 'bekendt', 'med', 'en', 'række', 'bombeeksplosioner', 'og', 'drab', 'i', 'sri', 'lanka']\n",
      "['en', 'af', 'de', 'personer', 'der', 'blev', 'myrdet', 'for', 'ganske', 'nylig', 'i', 'sri', 'lanka', 'var', 'hr', 'kumar', 'ponnambalam', 'der', 'besøgte', 'europaparlamentet', 'for', 'få', 'måneder', 'siden']\n"
     ]
    },
    {
     "name": "stderr",
     "output_type": "stream",
     "text": [
      "                                                                                \r"
     ]
    }
   ],
   "source": [
    "#printing first 10 lines preprocessed Danish transcript in lowercase and after split\n",
    "preprocess_DA=RDD_DA.map(tokenizer_lower)\n",
    "for line in preprocess_DA.take(10):\n",
    "    print(line)"
   ]
  },
  {
   "cell_type": "code",
   "execution_count": 97,
   "id": "0359b627-97c6-41f7-95cd-815c8aa3551f",
   "metadata": {},
   "outputs": [
    {
     "name": "stderr",
     "output_type": "stream",
     "text": [
      "[Stage 10:============>     (2 + 1) / 3][Stage 119:=====>           (1 + 2) / 3]\r"
     ]
    },
    {
     "name": "stdout",
     "output_type": "stream",
     "text": [
      "line counts of preprocessed english transcript: 1968800\n",
      "line counts of preprocessed Danish transcript: 1968800\n",
      "line count matches\n"
     ]
    },
    {
     "name": "stderr",
     "output_type": "stream",
     "text": [
      "[Stage 10:======================================>                   (2 + 1) / 3]\r"
     ]
    }
   ],
   "source": [
    "X=preprocess_EN.count() #counting number lines in EN preprocessed transcripts.\n",
    "Y=preprocess_DA.count() #counting number lines in DA preprocessed transcripts.\n",
    "print(\"line counts of preprocessed english transcript:\",X)\n",
    "print(\"line counts of preprocessed Danish transcript:\",Y)\n",
    "if X==Y:\n",
    "    print(\"line count matches\")\n",
    "else:\n",
    "    print(\"line count does not match\")\n"
   ]
  },
  {
   "cell_type": "code",
   "execution_count": 138,
   "id": "1973c887-6bcf-4e2a-9990-842d908397f8",
   "metadata": {},
   "outputs": [],
   "source": [
    "#function to count 10 frequently occuring words\n",
    "def word_occurance(X):\n",
    "    flat_X = X.flatMap(lambda i: i) #using flatmap to convert the words into single list\n",
    "    map_X = flat_X.map(lambda i: (i,1))#to map words to number 1\n",
    "    reduce_X = map_X.reduceByKey(add)#to count the words\n",
    "    return reduce_X.takeOrdered(10,key=lambda i: -i[1]) #to print the words at top 10 occurences"
   ]
  },
  {
   "cell_type": "code",
   "execution_count": 139,
   "id": "da87e655-bfc1-4514-95ef-75409955b1fb",
   "metadata": {},
   "outputs": [
    {
     "name": "stderr",
     "output_type": "stream",
     "text": [
      "[Stage 36:======================================>                   (2 + 1) / 3]\r"
     ]
    },
    {
     "name": "stdout",
     "output_type": "stream",
     "text": [
      "the 10 most frequently occured words in english transcript are :\n",
      "   word    count\n",
      "0   the  3729868\n",
      "1    of  1766674\n",
      "2    to  1640366\n",
      "3   and  1401027\n",
      "4    in  1157296\n",
      "5  that   892029\n",
      "6     a   823732\n",
      "7    is   822269\n",
      "8   for   569790\n",
      "9    we   562591\n"
     ]
    },
    {
     "name": "stderr",
     "output_type": "stream",
     "text": [
      "                                                                                \r"
     ]
    }
   ],
   "source": [
    "##printing top 10 most frequently occured words in english transcript\n",
    "Count_EN=word_occurance(preprocess_EN)\n",
    "print(\"the 10 most frequently occured words in english transcript are :\")\n",
    "X=pd.DataFrame(Count_EN,columns=[\"word\",\"count\"])\n",
    "print(X)"
   ]
  },
  {
   "cell_type": "code",
   "execution_count": 126,
   "id": "08ea9697-8451-43a3-9c70-a8ba55e3607b",
   "metadata": {},
   "outputs": [
    {
     "name": "stderr",
     "output_type": "stream",
     "text": [
      "[Stage 6:=======================================>                   (2 + 1) / 3]\r"
     ]
    },
    {
     "name": "stdout",
     "output_type": "stream",
     "text": [
      "the 10 most frequently occured words in Danish transcript are :\n",
      "  word    count\n",
      "0   at  1549339\n",
      "1   og  1437864\n",
      "2    i  1274078\n",
      "3   er  1057081\n",
      "4  det   992398\n",
      "5  for   980902\n",
      "6   af   927153\n",
      "7  til   786471\n",
      "8   en   688735\n",
      "9   de   675299\n"
     ]
    },
    {
     "name": "stderr",
     "output_type": "stream",
     "text": [
      "                                                                                \r"
     ]
    }
   ],
   "source": [
    "#printing top 10 most frequently occured words in Danish transcript\n",
    "Count_DA=word_occurance(preprocess_DA)\n",
    "print(\"the 10 most frequently occured words in Danish transcript are :\")\n",
    "X=pd.DataFrame(Count_DA,columns=[\"word\",\"count\"])\n",
    "print(X)"
   ]
  },
  {
   "cell_type": "code",
   "execution_count": 127,
   "id": "d0fb7e88-7f2f-4a92-8ca9-0b64380edebb",
   "metadata": {},
   "outputs": [
    {
     "name": "stderr",
     "output_type": "stream",
     "text": [
      "                                                                                \r"
     ]
    },
    {
     "name": "stdout",
     "output_type": "stream",
     "text": [
      "[(['resumption', 'of', 'the', 'session'], 0), (['i', 'declare', 'resumed', 'the', 'session', 'of', 'the', 'european', 'parliament', 'adjourned', 'on', 'friday', '17', 'december', '1999', 'and', 'i', 'would', 'like', 'once', 'again', 'to', 'wish', 'you', 'a', 'happy', 'new', 'year', 'in', 'the', 'hope', 'that', 'you', 'enjoyed', 'a', 'pleasant', 'festive', 'period'], 1), (['although', 'as', 'you', 'will', 'have', 'seen', 'the', 'dreaded', 'millennium', 'bug', 'failed', 'to', 'materialise', 'still', 'the', 'people', 'in', 'a', 'number', 'of', 'countries', 'suffered', 'a', 'series', 'of', 'natural', 'disasters', 'that', 'truly', 'were', 'dreadful'], 2), (['you', 'have', 'requested', 'a', 'debate', 'on', 'this', 'subject', 'in', 'the', 'course', 'of', 'the', 'next', 'few', 'days', 'during', 'this', 'partsession'], 3), (['in', 'the', 'meantime', 'i', 'should', 'like', 'to', 'observe', 'a', 'minute', 's', 'silence', 'as', 'a', 'number', 'of', 'members', 'have', 'requested', 'on', 'behalf', 'of', 'all', 'the', 'victims', 'concerned', 'particularly', 'those', 'of', 'the', 'terrible', 'storms', 'in', 'the', 'various', 'countries', 'of', 'the', 'european', 'union'], 4)]\n"
     ]
    },
    {
     "name": "stderr",
     "output_type": "stream",
     "text": [
      "[Stage 11:>                                                         (0 + 1) / 1]\r"
     ]
    },
    {
     "name": "stdout",
     "output_type": "stream",
     "text": [
      "[(['genoptagelse', 'af', 'sessionen'], 0), (['jeg', 'erklærer', 'europaparlamentets', 'session', 'der', 'blev', 'afbrudt', 'fredag', 'den', '17', 'december', 'for', 'genoptaget', 'endnu', 'en', 'gang', 'vil', 'jeg', 'ønske', 'dem', 'godt', 'nytår', 'og', 'jeg', 'håber', 'de', 'har', 'haft', 'en', 'god', 'ferie'], 1), (['som', 'de', 'kan', 'se', 'indfandt', 'det', 'store', 'år', '2000problem', 'sig', 'ikke', 'til', 'gengæld', 'har', 'borgerne', 'i', 'en', 'del', 'af', 'medlemslandene', 'været', 'ramt', 'af', 'meget', 'forfærdelige', 'naturkatastrofer'], 2), (['de', 'har', 'udtrykt', 'ønske', 'om', 'en', 'debat', 'om', 'dette', 'emne', 'i', 'løbet', 'af', 'mødeperioden'], 3), (['i', 'mellemtiden', 'ønsker', 'jeg', 'som', 'også', 'en', 'del', 'kolleger', 'har', 'anmodet', 'om', 'at', 'vi', 'iagttager', 'et', 'minuts', 'stilhed', 'til', 'minde', 'om', 'ofrene', 'for', 'bla', 'stormene', 'i', 'de', 'medlemslande', 'der', 'blev', 'ramt'], 4)]\n"
     ]
    },
    {
     "name": "stderr",
     "output_type": "stream",
     "text": [
      "                                                                                \r"
     ]
    }
   ],
   "source": [
    "EN_1=preprocess_EN.zipWithIndex()\n",
    "print(EN_1.take(5))\n",
    "DA_1=preprocess_DA.zipWithIndex()\n",
    "print(DA_1.take(5))\n",
    "\n"
   ]
  },
  {
   "cell_type": "code",
   "execution_count": 128,
   "id": "e4abd928-71ee-48eb-971e-dcd510fc4963",
   "metadata": {},
   "outputs": [
    {
     "name": "stderr",
     "output_type": "stream",
     "text": [
      "[Stage 13:>                                                         (0 + 1) / 1]\r"
     ]
    },
    {
     "name": "stdout",
     "output_type": "stream",
     "text": [
      "[(0, ['resumption', 'of', 'the', 'session']), (1, ['i', 'declare', 'resumed', 'the', 'session', 'of', 'the', 'european', 'parliament', 'adjourned', 'on', 'friday', '17', 'december', '1999', 'and', 'i', 'would', 'like', 'once', 'again', 'to', 'wish', 'you', 'a', 'happy', 'new', 'year', 'in', 'the', 'hope', 'that', 'you', 'enjoyed', 'a', 'pleasant', 'festive', 'period']), (2, ['although', 'as', 'you', 'will', 'have', 'seen', 'the', 'dreaded', 'millennium', 'bug', 'failed', 'to', 'materialise', 'still', 'the', 'people', 'in', 'a', 'number', 'of', 'countries', 'suffered', 'a', 'series', 'of', 'natural', 'disasters', 'that', 'truly', 'were', 'dreadful']), (3, ['you', 'have', 'requested', 'a', 'debate', 'on', 'this', 'subject', 'in', 'the', 'course', 'of', 'the', 'next', 'few', 'days', 'during', 'this', 'partsession']), (4, ['in', 'the', 'meantime', 'i', 'should', 'like', 'to', 'observe', 'a', 'minute', 's', 'silence', 'as', 'a', 'number', 'of', 'members', 'have', 'requested', 'on', 'behalf', 'of', 'all', 'the', 'victims', 'concerned', 'particularly', 'those', 'of', 'the', 'terrible', 'storms', 'in', 'the', 'various', 'countries', 'of', 'the', 'european', 'union'])] [(0, ['genoptagelse', 'af', 'sessionen']), (1, ['jeg', 'erklærer', 'europaparlamentets', 'session', 'der', 'blev', 'afbrudt', 'fredag', 'den', '17', 'december', 'for', 'genoptaget', 'endnu', 'en', 'gang', 'vil', 'jeg', 'ønske', 'dem', 'godt', 'nytår', 'og', 'jeg', 'håber', 'de', 'har', 'haft', 'en', 'god', 'ferie']), (2, ['som', 'de', 'kan', 'se', 'indfandt', 'det', 'store', 'år', '2000problem', 'sig', 'ikke', 'til', 'gengæld', 'har', 'borgerne', 'i', 'en', 'del', 'af', 'medlemslandene', 'været', 'ramt', 'af', 'meget', 'forfærdelige', 'naturkatastrofer']), (3, ['de', 'har', 'udtrykt', 'ønske', 'om', 'en', 'debat', 'om', 'dette', 'emne', 'i', 'løbet', 'af', 'mødeperioden']), (4, ['i', 'mellemtiden', 'ønsker', 'jeg', 'som', 'også', 'en', 'del', 'kolleger', 'har', 'anmodet', 'om', 'at', 'vi', 'iagttager', 'et', 'minuts', 'stilhed', 'til', 'minde', 'om', 'ofrene', 'for', 'bla', 'stormene', 'i', 'de', 'medlemslande', 'der', 'blev', 'ramt'])]\n"
     ]
    },
    {
     "name": "stderr",
     "output_type": "stream",
     "text": [
      "                                                                                \r"
     ]
    }
   ],
   "source": [
    "EN_2=EN_1.map(lambda i: (i[1],i[0]))\n",
    "DA_2=DA_1.map(lambda i: (i[1],i[0]))\n",
    "print(EN_2.take(5),DA_2.take(5))"
   ]
  },
  {
   "cell_type": "code",
   "execution_count": 129,
   "id": "99066e72-3804-41ba-9ad0-cf3a83ef80f8",
   "metadata": {},
   "outputs": [
    {
     "name": "stderr",
     "output_type": "stream",
     "text": [
      "[Stage 15:>                                                         (0 + 1) / 1]\r"
     ]
    },
    {
     "name": "stdout",
     "output_type": "stream",
     "text": [
      "[(4740, (['the', 'debate', 'is', 'closed'], ['forhandlingen', 'er', 'afsluttet'])), (7026, (['again', 'because', 'these', 'conciliations', 'are', 'not', 'entirely', 'straight', 'forward', 'we', 'have', 'to', 'thank', 'vicepresident', 'imbeni', 'for', 'his', 'exemplary', 'negotiating', 'skills', 'in', 'the', 'convoluted', 'field', 'of', 'ensuring', 'that', 'cultural', 'expenditure', 'is', 'wisely', 'deployed', 'and', 'given', 'to', 'us', 'in', 'our', 'community'], ['da', 'disse', 'forligsprocedurer', 'ikke', 'er', 'så', 'enkle', 'må', 'vi', 'endnu', 'en', 'gang', 'takke', 'næstformanden', 'hr', 'imbeni', 'for', 'hans', 'eksemplariske', 'forhandlingstalent', 'til', 'sikring', 'af', 'en', 'fornuftig', 'fordeling', 'af', 'kulturudgifterne', 'i', 'fællesskabet'])), (9168, (['nevertheless', 'we', 'definitely', 'have', 'to', 'do', 'more'], ['men', 'vi', 'skal', 'så', 'afgjort', 'gøre', 'mere', 'endnu'])), (15270, (['so', 'it', 'is', 'a', 'step', 'forward'], ['der', 'er', 'således', 'tale', 'om', 'et', 'skridt', 'i', 'den', 'rigtige', 'retning'])), (15810, (['i', 'can', 'also', 'accept', 'the', 'idea', 'in', 'the', 'second', 'proposed', 'paragraph', 'of', 'amendment', 'no', '47'], ['jeg', 'kan', 'endvidere', 'acceptere', 'idéen', 'i', 'det', 'andet', 'foreslåede', 'punkt', 'i', 'ændringsforslag', '47']))]\n"
     ]
    },
    {
     "name": "stderr",
     "output_type": "stream",
     "text": [
      "                                                                                \r"
     ]
    }
   ],
   "source": [
    "ENDA_transcript=EN_2.join(DA_2)\n",
    "print(ENDA_transcript.take(5))"
   ]
  },
  {
   "cell_type": "code",
   "execution_count": 130,
   "id": "48d4ec13-2439-4bfb-ad99-6440b11494b1",
   "metadata": {},
   "outputs": [
    {
     "name": "stderr",
     "output_type": "stream",
     "text": [
      "[Stage 17:>                                                         (0 + 1) / 1]\r"
     ]
    },
    {
     "name": "stdout",
     "output_type": "stream",
     "text": [
      "[(912, (['the', 'rules', 'pertaining', 'to', 'the', 'steel', 'industry', 'were', 'drawn', 'up', 'on', '18', 'december', '1996'], ['for', 'stålindustriens', 'vedkommende', 'blev', 'de', 'gældende', 'regler', 'udarbejdet', 'den', '18', 'december', '1996'])), (1080, (['first', 'of', 'all', 'there', 'is', 'a', 'risk', 'that', 'the', 'decentralisation', 'of', 'powers', 'though', 'necessary', 'in', 'many', 'ways', 'will', 'cause', 'an', 'abnormal', 'increase', 'in', 'competitionrelated', 'initiatives', 'and', 'that', 'some', 'people', 'will', 'be', 'tempted', 'to', 'use', 'competition', 'law', 'not', 'as', 'a', 'means', 'to', 'be', 'resorted', 'to', 'when', 'all', 'else', 'fails', 'of', 'ensuring', 'the', 'smooth', 'and', 'predictable', 'functioning', 'of', 'the', 'markets', 'but', 'for', 'the', 'purposes', 'of', 'as', 'an', 'instrument', 'for', 'economic', 'and', 'industrial', 'policy', 'planning', 'and', 'interference', 'with', 'the', 'natural', 'workings', 'of', 'the', 'markets', 'themselves', 'or', 'even', 'for', 'protectionist', 'purposes'], ['først', 'og', 'fremmest', 'er', 'der', 'risiko', 'for', 'at', 'den', 'uddelegering', 'af', 'ansvarsområderne', 'til', 'de', 'enkelte', 'medlemsstater', 'som', 'er', 'nødvendig', 'af', 'flere', 'grunde', 'fører', 'til', 'en', 'abnorm', 'forøgelse', 'af', 'initiativerne', 'på', 'konkurrenceområdet', 'og', 'at', 'nogle', 'fristes', 'til', 'at', 'benytte', 'sig', 'af', 'antitrust', 'ikke', 'som', 'en', 'sidste', 'garanti', 'for', 'at', 'markederne', 'fungerer', 'godt', 'og', 'forudsigeligt', 'men', 'derimod', 'som', 'et', 'økonomisk', 'og', 'industripolitisk', 'instrument', 'som', 'et', 'planlægningsinstrument', 'og', 'som', 'et', 'instrument', 'til', 'indgreb', 'i', 'de', 'spontane', 'markedsmekanismer', 'eller', 'måske', 'som', 'et', 'instrument', 'for', 'protektionistiske', 'politikker'])), (1452, (['as', 'with', 'many', 'other', 'provisions', 'of', 'the', 'treaty', 'articles', '811', 'and', '82', 'have', 'after', 'all', 'been', 'applied', 'for', 'decades', 'by', 'national', 'authorities', 'and', 'judges', 'and', 'i', 'do', 'not', 'feel', 'that', 'this', 'has', 'created', 'serious', 'problems'], ['ligesom', 'det', 'er', 'tilfældet', 'med', 'mange', 'andre', 'af', 'traktatens', 'bestemmelser', 'har', 'artikel', '81', 'stk', '1', 'og', 'artikel', '82', 'trods', 'alt', 'været', 'anvendt', 'af', 'nationale', 'myndigheder', 'og', 'dommere', 'i', 'flere', 'årtier', 'og', 'jeg', 'mener', 'ikke', 'at', 'dette', 'har', 'skabt', 'nogen', 'særlige', 'problemer'])), (2598, (['we', 'are', 'fortunate', 'in', 'having', 'the', 'gulf', 'stream'], ['vi', 'har', 'heldigvis', 'golfstrømmen'])), (7386, (['this', 'is', 'a', 'useful', 'measure', 'and', 'it', 'is', 'one', 'which', 'we', 'all', 'need'], ['det', 'er', 'en', 'nyttig', 'foranstaltning', 'som', 'vi', 'alle', 'har', 'brug', 'for']))]\n"
     ]
    },
    {
     "name": "stderr",
     "output_type": "stream",
     "text": [
      "                                                                                \r"
     ]
    }
   ],
   "source": [
    "ENDA_filter1=ENDA_transcript.filter(lambda i: i[1][0]!='' and i[1][1]!='')\n",
    "print(ENDA_filter1.take(5))\n"
   ]
  },
  {
   "cell_type": "code",
   "execution_count": 131,
   "id": "206c53a6-0d93-42db-923f-88bcfe2e7b34",
   "metadata": {},
   "outputs": [
    {
     "name": "stderr",
     "output_type": "stream",
     "text": [
      "[Stage 19:>                                                         (0 + 1) / 1]\r"
     ]
    },
    {
     "name": "stdout",
     "output_type": "stream",
     "text": [
      "[(72420, ([], ['2100'])), (97836, (['we', 'are', 'not', 'getting', 'into', 'a', 'debate', 'on', 'a', 'procedural', 'point'], ['vi', 'skal', 'ikke', 'til', 'at', 'starte', 'en', 'debat', 'om', 'et', 'procedurespørgsmål'])), (128598, (['that', 'is', 'why', 'i', 'would', 'like', 'to', 'concentrate', 'on', 'a', 'couple', 'of', 'key', 'areas'], ['derfor', 'vil', 'jeg', 'koncentrere', 'mig', 'om', 'et', 'par', 'væsentlige', 'punkter'])), (183090, (['that', 'concludes', 'questions', 'to', 'the', 'council'], ['hermed', 'er', 'spørgetiden', 'til', 'rådet', 'afsluttet'])), (193620, (['words', 'have', 'meaning'], ['ordene', 'har', 'en', 'betydning']))]\n"
     ]
    },
    {
     "name": "stderr",
     "output_type": "stream",
     "text": [
      "                                                                                \r"
     ]
    }
   ],
   "source": [
    "ENDA_filter2=ENDA_filter1.filter(lambda i: len(i[1][0])<=15 and len(i[1][1])<=15)\n",
    "print(ENDA_filter2.take(5))"
   ]
  },
  {
   "cell_type": "code",
   "execution_count": 107,
   "id": "05d8d481-9fbd-44ec-b74b-4b4d577dd470",
   "metadata": {},
   "outputs": [
    {
     "name": "stderr",
     "output_type": "stream",
     "text": [
      "[Stage 10:============>     (2 + 1) / 3][Stage 139:>                (0 + 1) / 1]\r"
     ]
    },
    {
     "name": "stdout",
     "output_type": "stream",
     "text": [
      "[(30546, (['thank', 'you', 'commissioner'], ['tak', 'hr', 'kommissær'])), (134118, (['i', 'am', 'emphatically', 'supporting', 'mrs', 'sanders', 'liability', 'proposals', 'and', 'also', 'the', 'proposals', 'regarding', 'consumer', 'information'], ['jeg', 'vil', 'udtrykkeligt', 'støtte', 'fru', 'sandersten', 'holtes', 'forslag', 'om', 'erstatningsansvar', 'og', 'også', 'forslagene', 'om', 'forbrugerinformation'])), (158322, (['question', 'no', '7', 'by', 'h048301'], ['spørgsmål', 'nr', '7', 'af', 'h048301'])), (225114, (['president'], ['formanden'])), (233874, (['the', 'laeken', 'declaration', 'contains', 'more', 'than', 'sixty', 'nonrhetorical', 'questions'], ['fru', 'formand', 'laekenerklæringen', 'indeholder', 'mere', 'end', '60', 'ikkeretoriske', 'spørgsmål']))]\n"
     ]
    },
    {
     "name": "stderr",
     "output_type": "stream",
     "text": [
      "[Stage 10:======================================>                   (2 + 1) / 3]\r"
     ]
    }
   ],
   "source": [
    "ENDA_filter3=ENDA_filter1.filter(lambda i: len(i[1][0]) == len(i[1][1]))\n",
    "print(ENDA_filter3.take(5))\n"
   ]
  },
  {
   "cell_type": "code",
   "execution_count": 137,
   "id": "1577724c-b8bb-4e22-a197-72339252f4e1",
   "metadata": {},
   "outputs": [
    {
     "name": "stderr",
     "output_type": "stream",
     "text": [
      "[Stage 35:>                                                         (0 + 1) / 1]\r"
     ]
    },
    {
     "name": "stdout",
     "output_type": "stream",
     "text": [
      "[[('only', 'først'), ('when', 'når'), ('an', 'et'), ('independent', 'uafhængigt'), ('judiciary', 'domstolsvæsen'), ('freedom', 'ytringsfrihed'), ('of', 'og'), ('expression', 'demokrati'), ('and', 'eksisterer'), ('democracy', 'som'), ('exist', 'andet'), ('as', 'end'), ('more', 'sound'), ('than', 'bites'), ('sound', 'og'), ('bites', 'når'), ('and', 'journalister'), ('when', 'oppositionspartier'), ('journalists', 'og'), ('opposition', 'ngoer'), ('parties', 'kan'), ('and', 'virke'), ('ngos', 'uden'), ('can', 'frygt'), ('operate', 'for'), ('without', 'straf'), ('fear', 'kan'), ('of', 'europa'), ('retribution', 'stille'), ('can', 'sig'), ('europe', 'solidarisk'), ('stand', 'med'), ('in', 'rusland')], [('we', 'vi'), ('intend', 'vil'), ('to', 'træffe'), ('take', 'de'), ('the', 'relevante'), ('relevant', 'beslutninger'), ('decisions', 'på'), ('in', 'dette'), ('this', 'område'), ('area', 'i'), ('in', 'december')], [('it', 'det'), ('ensures', 'sikrer'), ('that', 'at'), ('airbus', 'airbus'), ('does', 'ikke'), ('not', 'bliver'), ('fall', 'offer'), ('prey', 'for'), ('to', 'kapitalmarkedernes'), ('the', 'diktater')], [('i', 'jeg'), ('have', 'har'), ('already', 'allerede'), ('said', 'sagt'), ('that', 'at'), ('the', 'den'), ('german', 'tyske'), ('finance', 'finansminister'), ('minister', 'nævnte'), ('mentioned', 'risikoen'), ('the', 'for'), ('risk', 'en'), ('of', 'legitimitetskrise'), ('a', 'i'), ('crisis', 'forbindelse'), ('of', 'med'), ('legitimacy', 'den'), ('in', 'europæiske'), ('the', 'sociale'), ('european', 'og'), ('social', 'økonomiske'), ('and', 'model')], [('the', 'eu'), ('union', 'har'), ('has', 'tydeligvis'), ('evidently', 'undladt'), ('failed', 'at'), ('to', 'tage'), ('take', 'begrebet'), ('the', 'lighed'), ('notion', 'til'), ('of', 'sig'), ('equality', 'og'), ('on', 'jeg'), ('board', 'støtter'), ('and', 'derfor'), ('i', 'protesten')]]\n"
     ]
    },
    {
     "name": "stderr",
     "output_type": "stream",
     "text": [
      "                                                                                \r"
     ]
    }
   ],
   "source": [
    "ENDA_filter4 = ENDA_filter1.map(lambda i: list(zip(i[1][0],i[1][1])))\n",
    "print(ENDA_filter4.take(5))"
   ]
  },
  {
   "cell_type": "code",
   "execution_count": 140,
   "id": "59b44466-6866-479b-a8a1-e11a23462904",
   "metadata": {},
   "outputs": [
    {
     "name": "stderr",
     "output_type": "stream",
     "text": [
      "[Stage 40:================================================>         (5 + 1) / 6]\r"
     ]
    },
    {
     "name": "stdout",
     "output_type": "stream",
     "text": [
      "the most frequently occured words in English and Danish transcript are :\n",
      "         word   count\n",
      "0    (i, jeg)  234932\n",
      "1   (and, og)  194271\n",
      "2    (we, vi)  182649\n",
      "3    (is, er)  172577\n",
      "4  (that, at)  141641\n",
      "5     (in, i)  128235\n",
      "6    (to, at)  127938\n",
      "7  (the, den)  112369\n",
      "8   (it, det)  112076\n",
      "9   (the, at)  105105\n"
     ]
    },
    {
     "name": "stderr",
     "output_type": "stream",
     "text": [
      "                                                                                \r"
     ]
    }
   ],
   "source": [
    "red_occurance = word_occurance(ENDA_filter4)\n",
    "print(\"the most frequently occured words in English and Danish transcript are :\")\n",
    "X=pd.DataFrame(red_occurance,columns=[\"word\",\"count\"])\n",
    "print(X)"
   ]
  },
  {
   "cell_type": "code",
   "execution_count": 141,
   "id": "952d89de-706d-44df-bc76-bf0e5a74b62a",
   "metadata": {},
   "outputs": [],
   "source": [
    "spark_context.stop()"
   ]
  },
  {
   "cell_type": "code",
   "execution_count": null,
   "id": "92c819b1-0695-4662-957b-22eb21cbff29",
   "metadata": {},
   "outputs": [],
   "source": []
  }
 ],
 "metadata": {
  "kernelspec": {
   "display_name": "Python 3 (ipykernel)",
   "language": "python",
   "name": "python3"
  },
  "language_info": {
   "codemirror_mode": {
    "name": "ipython",
    "version": 3
   },
   "file_extension": ".py",
   "mimetype": "text/x-python",
   "name": "python",
   "nbconvert_exporter": "python",
   "pygments_lexer": "ipython3",
   "version": "3.8.10"
  }
 },
 "nbformat": 4,
 "nbformat_minor": 5
}
