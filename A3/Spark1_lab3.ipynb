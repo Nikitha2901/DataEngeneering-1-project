{
 "cells": [
  {
   "cell_type": "code",
   "execution_count": 9,
   "id": "5f34fd05-ae3b-4aaf-8deb-5352b18d7c3d",
   "metadata": {},
   "outputs": [
    {
     "name": "stderr",
     "output_type": "stream",
     "text": [
      "Setting default log level to \"WARN\".\n",
      "To adjust logging level use sc.setLogLevel(newLevel). For SparkR, use setLogLevel(newLevel).\n",
      "24/02/20 17:17:22 WARN NativeCodeLoader: Unable to load native-hadoop library for your platform... using builtin-java classes where applicable\n"
     ]
    }
   ],
   "source": [
    "from pyspark.sql import SparkSession\n",
    "from operator import add\n",
    "import pandas as pd\n",
    "import string\n",
    "import re\n",
    "\n",
    "spark_session = SparkSession\\\n",
    "        .builder\\\n",
    "        .master(\"spark://192.168.2.250:7077\") \\\n",
    "        .appName(\"Nikitha_Krishna Murthy_lab 3\")\\\n",
    "        .config(\"spark.dynamicAllocation.enabled\", True)\\\n",
    "        .config(\"spark.dynamicAllocation.shuffleTracking.enabled\",True)\\\n",
    "        .config(\"spark.shuffle.service.enabled\", False)\\\n",
    "        .config(\"spark.dynamicAllocation.executorIdleTimeout\",\"300s\")\\\n",
    "        .config(\"spark.executor.cores\",2)\\\n",
    "        .config(\"spark.driver.port\",9999)\\\n",
    "        .config(\"spark.blockManager.port\",10005)\\\n",
    "        .getOrCreate()\n",
    "spark_context = spark_session.sparkContext\n",
    "\n",
    "spark_context.setLogLevel(\"ERROR\")\n",
    "\n"
   ]
  },
  {
   "cell_type": "markdown",
   "id": "47a1e7d6-fa30-405a-9e81-b820c48f987f",
   "metadata": {},
   "source": [
    "### Question A.1"
   ]
  },
  {
   "cell_type": "markdown",
   "id": "7177f9f4-1cc0-4a31-bc7b-0a3054837eda",
   "metadata": {},
   "source": [
    "### A.1.1 Read the English transcripts with Spark, and count the number of lines"
   ]
  },
  {
   "cell_type": "code",
   "execution_count": 10,
   "id": "b4b8396b-d14e-43c4-955a-a02f908b5270",
   "metadata": {},
   "outputs": [
    {
     "name": "stderr",
     "output_type": "stream",
     "text": [
      "[Stage 0:>                                                          (0 + 2) / 3]\r"
     ]
    },
    {
     "name": "stdout",
     "output_type": "stream",
     "text": [
      "1924942\n"
     ]
    },
    {
     "name": "stderr",
     "output_type": "stream",
     "text": [
      "                                                                                \r"
     ]
    }
   ],
   "source": [
    "#reading the english transcript lines for finnish language and then counting number of lines\n",
    "RDD_EN = spark_context.textFile(\"hdfs://192.168.2.250:9000/europarl/europarl-v7.fi-en.en\")\n",
    "print(RDD_EN.count())"
   ]
  },
  {
   "cell_type": "markdown",
   "id": "89ebd57b-c2df-4d2e-93b3-bf0242b6f5d8",
   "metadata": {},
   "source": [
    "### A.1.2 Do the same with the other language"
   ]
  },
  {
   "cell_type": "code",
   "execution_count": 11,
   "id": "4c1f62dc-2de5-42e4-8d34-fa03c27c2586",
   "metadata": {},
   "outputs": [
    {
     "name": "stderr",
     "output_type": "stream",
     "text": [
      "[Stage 1:=======================================>                   (2 + 1) / 3]\r"
     ]
    },
    {
     "name": "stdout",
     "output_type": "stream",
     "text": [
      "1924942\n"
     ]
    },
    {
     "name": "stderr",
     "output_type": "stream",
     "text": [
      "                                                                                \r"
     ]
    }
   ],
   "source": [
    "#reading the FINNISH transcript lines for finnish language and then counting number of lines\n",
    "RDD_FI = spark_context.textFile(\"hdfs://192.168.2.250:9000/europarl/europarl-v7.fi-en.fi\")\n",
    "print(RDD_FI.count())"
   ]
  },
  {
   "cell_type": "markdown",
   "id": "4eacfe46-a4ce-4b10-ae56-f18b374204ce",
   "metadata": {},
   "source": [
    "### A.1.3 Verify that the line counts are the same for the two languages"
   ]
  },
  {
   "cell_type": "code",
   "execution_count": 12,
   "id": "06ce0be3-2133-4096-b71a-71f2f58c287b",
   "metadata": {},
   "outputs": [
    {
     "name": "stderr",
     "output_type": "stream",
     "text": [
      "                                                                                \r"
     ]
    },
    {
     "name": "stdout",
     "output_type": "stream",
     "text": [
      "the lines counts are same for english transcript and finnish transcript: 1924942\n"
     ]
    },
    {
     "name": "stderr",
     "output_type": "stream",
     "text": [
      "                                                                                \r"
     ]
    }
   ],
   "source": [
    "if RDD_EN.count() == RDD_FI.count(): #checking condition for line count \n",
    "    print(\"the lines counts are same for english transcript and finnish transcript:\",RDD_EN.count())\n",
    "else:\n",
    "    print(\"line count does not match\")"
   ]
  },
  {
   "cell_type": "markdown",
   "id": "993c4b66-98ca-4c2d-882a-ab3a11395a0a",
   "metadata": {},
   "source": [
    "### A.1.4 Count the number of partitions."
   ]
  },
  {
   "cell_type": "code",
   "execution_count": 13,
   "id": "02b65cd0-0486-4c57-b358-aa71e61b8c56",
   "metadata": {},
   "outputs": [
    {
     "name": "stdout",
     "output_type": "stream",
     "text": [
      "Number of partitions for english transcript RDD: 3\n",
      "Number of partitions for english transcript RDD: 3\n"
     ]
    }
   ],
   "source": [
    "RDD_ENpart=RDD_EN.getNumPartitions()#number of partitions for first RDD of english transcript\n",
    "RDD_FIpart=RDD_FI.getNumPartitions()#number of partitions for first RDD of finnish transcript\n",
    "print(\"Number of partitions for english transcript RDD:\",RDD_ENpart)\n",
    "print(\"Number of partitions for english transcript RDD:\",RDD_FIpart)"
   ]
  },
  {
   "cell_type": "markdown",
   "id": "2b03e4c4-12c3-4150-b8bb-a21e2fe3b914",
   "metadata": {},
   "source": [
    "### Question A.2"
   ]
  },
  {
   "cell_type": "markdown",
   "id": "e6d55da5-95c7-40bf-87f8-cc2d95dfc5e0",
   "metadata": {},
   "source": [
    "### A.2.1 Pre-process the text from both RDDs by doing the following:\n",
    "###  ● Lowercase the text\n",
    "###  ● Tokenize the text (split on space)\n",
    "###  Hint: define a function to run in your driver application to avoid writing this code twice"
   ]
  },
  {
   "cell_type": "code",
   "execution_count": 14,
   "id": "deebd32e-d37d-40e0-856a-87b62358f512",
   "metadata": {},
   "outputs": [],
   "source": [
    "def tokenizer_lower(lines):\n",
    "    #X=lines.translate(str.maketrans('','',string.punctuation))\n",
    "    X=re.sub(r'[^\\w]',\" \",lines)\n",
    "    return X.lower().split()"
   ]
  },
  {
   "cell_type": "markdown",
   "id": "5f3efce7-5b2e-406f-a9ae-6943b85e4359",
   "metadata": {},
   "source": [
    "### A.2.2 Inspect 10 entries from each of your RDDs to verify your pre-processing."
   ]
  },
  {
   "cell_type": "code",
   "execution_count": 15,
   "id": "5dfc47ad-f5d6-4a34-8005-b4915df2178e",
   "metadata": {},
   "outputs": [
    {
     "name": "stdout",
     "output_type": "stream",
     "text": [
      "the first 10 lines for preprocessed english transcript in lowercase are:\n",
      "['resumption', 'of', 'the', 'session']\n",
      "['i', 'declare', 'resumed', 'the', 'session', 'of', 'the', 'european', 'parliament', 'adjourned', 'on', 'friday', '17', 'december', '1999', 'and', 'i', 'would', 'like', 'once', 'again', 'to', 'wish', 'you', 'a', 'happy', 'new', 'year', 'in', 'the', 'hope', 'that', 'you', 'enjoyed', 'a', 'pleasant', 'festive', 'period']\n",
      "['although', 'as', 'you', 'will', 'have', 'seen', 'the', 'dreaded', 'millennium', 'bug', 'failed', 'to', 'materialise', 'still', 'the', 'people', 'in', 'a', 'number', 'of', 'countries', 'suffered', 'a', 'series', 'of', 'natural', 'disasters', 'that', 'truly', 'were', 'dreadful']\n",
      "['you', 'have', 'requested', 'a', 'debate', 'on', 'this', 'subject', 'in', 'the', 'course', 'of', 'the', 'next', 'few', 'days', 'during', 'this', 'part', 'session']\n",
      "['in', 'the', 'meantime', 'i', 'should', 'like', 'to', 'observe', 'a', 'minute', 's', 'silence', 'as', 'a', 'number', 'of', 'members', 'have', 'requested', 'on', 'behalf', 'of', 'all', 'the', 'victims', 'concerned', 'particularly', 'those', 'of', 'the', 'terrible', 'storms', 'in', 'the', 'various', 'countries', 'of', 'the', 'european', 'union']\n",
      "['please', 'rise', 'then', 'for', 'this', 'minute', 's', 'silence']\n",
      "['the', 'house', 'rose', 'and', 'observed', 'a', 'minute', 's', 'silence']\n",
      "['madam', 'president', 'on', 'a', 'point', 'of', 'order']\n",
      "['you', 'will', 'be', 'aware', 'from', 'the', 'press', 'and', 'television', 'that', 'there', 'have', 'been', 'a', 'number', 'of', 'bomb', 'explosions', 'and', 'killings', 'in', 'sri', 'lanka']\n",
      "['one', 'of', 'the', 'people', 'assassinated', 'very', 'recently', 'in', 'sri', 'lanka', 'was', 'mr', 'kumar', 'ponnambalam', 'who', 'had', 'visited', 'the', 'european', 'parliament', 'just', 'a', 'few', 'months', 'ago']\n"
     ]
    },
    {
     "name": "stderr",
     "output_type": "stream",
     "text": [
      "                                                                                \r"
     ]
    }
   ],
   "source": [
    "#printing first 10 lines preprocessed English transcript in lowercase and after split\n",
    "preprocess_EN=RDD_EN.map(tokenizer_lower)\n",
    "print(\"the first 10 lines for preprocessed english transcript in lowercase are:\")\n",
    "for line in preprocess_EN.take(10):\n",
    "    print(line)"
   ]
  },
  {
   "cell_type": "code",
   "execution_count": 16,
   "id": "bed0c910-865f-4de4-97d8-8569522eb3e0",
   "metadata": {},
   "outputs": [
    {
     "name": "stdout",
     "output_type": "stream",
     "text": [
      "the first 10 lines for preprocessed finnish transcript in lowercase are:\n"
     ]
    },
    {
     "name": "stderr",
     "output_type": "stream",
     "text": [
      "[Stage 6:>                                                          (0 + 1) / 1]\r"
     ]
    },
    {
     "name": "stdout",
     "output_type": "stream",
     "text": [
      "['istuntokauden', 'uudelleenavaaminen']\n",
      "['julistan', 'perjantaina', 'joulukuun', '17', 'päivänä', 'keskeytetyn', 'euroopan', 'parlamentin', 'istunnon', 'avatuksi', 'ja', 'esitän', 'vielä', 'kerran', 'vilpittömän', 'toiveeni', 'siitä', 'että', 'teillä', 'olisi', 'ollut', 'oikein', 'mukava', 'joululoma']\n",
      "['kuten', 'olette', 'varmaan', 'saattaneet', 'huomata', 'vuodenvaihteeseen', '2000', 'povattuja', 'suuria', 'tietokoneongelmia', 'ei', 'ilmennytkään', 'sen', 'sijaan', 'todella', 'kauheat', 'luonnonkatastrofit', 'koettelivat', 'kansalaisia', 'joissakin', 'unionimme', 'maissa']\n",
      "['te', 'olette', 'esittäneet', 'toiveen', 'että', 'tästä', 'asiasta', 'keskusteltaisiin', 'lähipäivinä', 'tämän', 'istuntojakson', 'aikana']\n",
      "['sillä', 'välin', 'toivoisin', 'kuten', 'useampi', 'kollega', 'on', 'minulle', 'esittänytkin', 'että', 'viettäisimme', 'minuutin', 'hiljaisuuden', 'kaikkien', 'niiden', 'uhrien', 'muistoksi', 'jotka', 'saivat', 'surmansa', 'useita', 'euroopan', 'unionin', 'maita', 'koetelleissa', 'myrskyissä']\n",
      "['kehotan', 'että', 'nousette', 'seisomaan', 'tämän', 'minuutin', 'hiljaisuuden', 'ajaksi']\n",
      "['parlamentti', 'vietti', 'seisaallaan', 'minuutin', 'hiljaisuuden']\n",
      "['arvoisa', 'puhemies', 'käytän', 'työjärjestyspuheenvuoron']\n",
      "['olette', 'varmaan', 'saaneet', 'tietoonne', 'lehdistön', 'ja', 'television', 'kautta', 'että', 'sri', 'lankassa', 'on', 'sattunut', 'useita', 'kuolemaan', 'johtaneita', 'pommi', 'iskuja']\n",
      "['näiden', 'sri', 'lankassa', 'aivan', 'äskettäin', 'surmansa', 'saaneiden', 'ihmisten', 'joukossa', 'on', 'kumar', 'ponnambalam', 'joka', 'vieraili', 'parlamentissa', 'vain', 'pari', 'kuukautta', 'sitten']\n"
     ]
    },
    {
     "name": "stderr",
     "output_type": "stream",
     "text": [
      "                                                                                \r"
     ]
    }
   ],
   "source": [
    "#printing first 10 lines preprocessed finnish transcript in lowercase and after split\n",
    "preprocess_FI=RDD_FI.map(tokenizer_lower)\n",
    "print(\"the first 10 lines for preprocessed finnish transcript in lowercase are:\")\n",
    "for line in preprocess_FI.take(10):\n",
    "    print(line)"
   ]
  },
  {
   "cell_type": "markdown",
   "id": "3d6ace23-da7e-45fc-80ab-79003e3ca01c",
   "metadata": {},
   "source": [
    "### A.2.3 Verify that the line counts still match after the pre-processing."
   ]
  },
  {
   "cell_type": "code",
   "execution_count": 17,
   "id": "0359b627-97c6-41f7-95cd-815c8aa3551f",
   "metadata": {},
   "outputs": [
    {
     "name": "stderr",
     "output_type": "stream",
     "text": [
      "[Stage 8:===================>                                       (1 + 2) / 3]\r"
     ]
    },
    {
     "name": "stdout",
     "output_type": "stream",
     "text": [
      "line counts of preprocessed english transcript: 1924942\n",
      "line counts of preprocessed finnish transcript: 1924942\n",
      "line count matches in english and finnish transcript\n"
     ]
    },
    {
     "name": "stderr",
     "output_type": "stream",
     "text": [
      "                                                                                \r"
     ]
    }
   ],
   "source": [
    "X=preprocess_EN.count() #counting number lines in EN preprocessed transcripts.\n",
    "Y=preprocess_FI.count() #counting number lines in FN preprocessed transcripts.\n",
    "print(\"line counts of preprocessed english transcript:\",X)\n",
    "print(\"line counts of preprocessed finnish transcript:\",Y)\n",
    "if X==Y:\n",
    "    print(\"line count matches in english and finnish transcript\")\n",
    "else:\n",
    "    print(\"line count does not match\")\n"
   ]
  },
  {
   "cell_type": "markdown",
   "id": "1594837d-e16d-4f9c-9363-ab48b89f67e1",
   "metadata": {},
   "source": [
    "### Question 1.A.3"
   ]
  },
  {
   "cell_type": "markdown",
   "id": "57e58156-014d-4b35-b9a2-3504f8d17894",
   "metadata": {},
   "source": [
    "### A.3.1 Use Spark to compute the 10 most frequently according words in the English language corpus. Repeat for the other language. "
   ]
  },
  {
   "cell_type": "code",
   "execution_count": 18,
   "id": "1973c887-6bcf-4e2a-9990-842d908397f8",
   "metadata": {},
   "outputs": [],
   "source": [
    "#function to count 10 frequently occuring words\n",
    "def word_occurance(X):\n",
    "    flat_X = X.flatMap(lambda i: i) #using flatmap to convert the words into single list\n",
    "    map_X = flat_X.map(lambda i: (i,1))#to map words to number 1\n",
    "    reduce_X = map_X.reduceByKey(add)#to count the words\n",
    "    return reduce_X.takeOrdered(10,key=lambda i: -i[1]) #to print the words at top 10 occurences"
   ]
  },
  {
   "cell_type": "code",
   "execution_count": 38,
   "id": "da87e655-bfc1-4514-95ef-75409955b1fb",
   "metadata": {},
   "outputs": [
    {
     "name": "stderr",
     "output_type": "stream",
     "text": [
      "                                                                                \r"
     ]
    },
    {
     "name": "stdout",
     "output_type": "stream",
     "text": [
      "he 10 most frequently occured words in english transcript are :\n",
      "   word    count\n",
      "0   the  3639601\n",
      "1    of  1727482\n",
      "2    to  1605863\n",
      "3   and  1371958\n",
      "4    in  1141428\n",
      "5  that   873391\n",
      "6     a   807440\n",
      "7    is   803006\n",
      "8   for   558170\n",
      "9    we   552003\n"
     ]
    },
    {
     "name": "stderr",
     "output_type": "stream",
     "text": [
      "[Stage 44:======================================>                   (2 + 1) / 3]\r"
     ]
    },
    {
     "name": "stdout",
     "output_type": "stream",
     "text": [
      "The 10 most frequently occured words in finnish transcript are :\n",
      "       word    count\n",
      "0        ja  1252346\n",
      "1        on  1052444\n",
      "2      että   620097\n",
      "3  euroopan   263163\n",
      "4        ei   252346\n",
      "5      myös   185597\n",
      "6        se   183997\n",
      "7      ovat   163770\n",
      "8   arvoisa   149835\n",
      "9       sen   145099\n"
     ]
    },
    {
     "name": "stderr",
     "output_type": "stream",
     "text": [
      "                                                                                \r"
     ]
    }
   ],
   "source": [
    "##printing top 10 most frequently occured words in english transcript\n",
    "Count_EN=word_occurance(preprocess_EN)\n",
    "print(\"he 10 most frequently occured words in english transcript are :\")\n",
    "X=pd.DataFrame(Count_EN,columns=[\"word\",\"count\"])\n",
    "print(X)\n",
    "\n",
    "#printing top 10 most frequently occured words in Danish transcript\n",
    "Count_FI=word_occurance(preprocess_FI)\n",
    "print(\"The 10 most frequently occured words in finnish transcript are :\")\n",
    "Y=pd.DataFrame(Count_FI,columns=[\"word\",\"count\"])\n",
    "print(Y)"
   ]
  },
  {
   "cell_type": "markdown",
   "id": "8de616ff-af2d-4cac-abd3-481f68be036f",
   "metadata": {},
   "source": [
    "### A.3.2 Verify that your results are reasonable."
   ]
  },
  {
   "attachments": {},
   "cell_type": "markdown",
   "id": "fdb791fa-8aef-478f-8455-cd31658d06e2",
   "metadata": {},
   "source": [
    "Downloaded the dataset for english and finnish transcript from link : https://www.statmt.org/europarl/v6/fi-en.tgz into Instance VM using wget command. Then calculated the word count of 10 most frequently occured words in english and finnish transcript using commands : \n",
    "### sed -e 's/[^[:alpha:]]/ /g' europarl-v6.fi-en.en | tr '\\n' \" \" |  tr -s \" \" | tr \" \" '\\n'| tr 'A-Z' 'a-z' | sort | uniq -c | sort -nr | nl | head -n 10\n",
    "### sed -e 's/[^[:alpha:]]/ /g' europarl-v6.fi-en.fi | tr '\\n' \" \" |  tr -s \" \" | tr \" \" '\\n'| tr 'A-Z' 'a-z' | sort | uniq -c | sort -nr | nl | head -n 10\n",
    "The result obtained from above commands provides the same top 10 word accurances as above with approximately similar count.\n",
    "Hence the result abtained seems to resonable.\n",
    "\n"
   ]
  },
  {
   "cell_type": "markdown",
   "id": "337b156a-5f4c-4833-9025-2db411a23a44",
   "metadata": {},
   "source": [
    "### Question A.4"
   ]
  },
  {
   "cell_type": "markdown",
   "id": "c1acb986-1e7a-4400-8682-610be0029bf1",
   "metadata": {},
   "source": [
    "### A.4.1  Use this parallel corpus to mine some translations in the form of word pairs, for the two languages. Do this by pairing words found on short lines with the same number of words respectively. We (incorrectly) assume the words stay in the same order when translated.\n"
   ]
  },
  {
   "cell_type": "markdown",
   "id": "c1e85627-4819-47f0-996c-db885748f428",
   "metadata": {},
   "source": [
    "### Follow this approach. Work with the pair of RDDs you created in question A.2. Hint: make a new pair of RDDs for each step, sv_1, en_1, sv_2, en_2, ..."
   ]
  },
  {
   "cell_type": "markdown",
   "id": "ba88e6bc-a7d3-413d-b8d3-5f61283e8e52",
   "metadata": {},
   "source": [
    "### 1. Key the lines by their line number (hint: ZipWithIndex())."
   ]
  },
  {
   "cell_type": "code",
   "execution_count": 100,
   "id": "d0fb7e88-7f2f-4a92-8ca9-0b64380edebb",
   "metadata": {},
   "outputs": [
    {
     "name": "stderr",
     "output_type": "stream",
     "text": [
      "                                                                                \r"
     ]
    },
    {
     "name": "stdout",
     "output_type": "stream",
     "text": [
      "[(['resumption', 'of', 'the', 'session'], 0), (['i', 'declare', 'resumed', 'the', 'session', 'of', 'the', 'european', 'parliament', 'adjourned', 'on', 'friday', '17', 'december', '1999', 'and', 'i', 'would', 'like', 'once', 'again', 'to', 'wish', 'you', 'a', 'happy', 'new', 'year', 'in', 'the', 'hope', 'that', 'you', 'enjoyed', 'a', 'pleasant', 'festive', 'period'], 1), (['although', 'as', 'you', 'will', 'have', 'seen', 'the', 'dreaded', 'millennium', 'bug', 'failed', 'to', 'materialise', 'still', 'the', 'people', 'in', 'a', 'number', 'of', 'countries', 'suffered', 'a', 'series', 'of', 'natural', 'disasters', 'that', 'truly', 'were', 'dreadful'], 2), (['you', 'have', 'requested', 'a', 'debate', 'on', 'this', 'subject', 'in', 'the', 'course', 'of', 'the', 'next', 'few', 'days', 'during', 'this', 'part', 'session'], 3), (['in', 'the', 'meantime', 'i', 'should', 'like', 'to', 'observe', 'a', 'minute', 's', 'silence', 'as', 'a', 'number', 'of', 'members', 'have', 'requested', 'on', 'behalf', 'of', 'all', 'the', 'victims', 'concerned', 'particularly', 'those', 'of', 'the', 'terrible', 'storms', 'in', 'the', 'various', 'countries', 'of', 'the', 'european', 'union'], 4), (['please', 'rise', 'then', 'for', 'this', 'minute', 's', 'silence'], 5), (['the', 'house', 'rose', 'and', 'observed', 'a', 'minute', 's', 'silence'], 6), (['madam', 'president', 'on', 'a', 'point', 'of', 'order'], 7), (['you', 'will', 'be', 'aware', 'from', 'the', 'press', 'and', 'television', 'that', 'there', 'have', 'been', 'a', 'number', 'of', 'bomb', 'explosions', 'and', 'killings', 'in', 'sri', 'lanka'], 8), (['one', 'of', 'the', 'people', 'assassinated', 'very', 'recently', 'in', 'sri', 'lanka', 'was', 'mr', 'kumar', 'ponnambalam', 'who', 'had', 'visited', 'the', 'european', 'parliament', 'just', 'a', 'few', 'months', 'ago'], 9)]\n"
     ]
    },
    {
     "name": "stderr",
     "output_type": "stream",
     "text": [
      "[Stage 163:>                                                        (0 + 1) / 1]\r"
     ]
    },
    {
     "name": "stdout",
     "output_type": "stream",
     "text": [
      "[(['istuntokauden', 'uudelleenavaaminen'], 0), (['julistan', 'perjantaina', 'joulukuun', '17', 'päivänä', 'keskeytetyn', 'euroopan', 'parlamentin', 'istunnon', 'avatuksi', 'ja', 'esitän', 'vielä', 'kerran', 'vilpittömän', 'toiveeni', 'siitä', 'että', 'teillä', 'olisi', 'ollut', 'oikein', 'mukava', 'joululoma'], 1), (['kuten', 'olette', 'varmaan', 'saattaneet', 'huomata', 'vuodenvaihteeseen', '2000', 'povattuja', 'suuria', 'tietokoneongelmia', 'ei', 'ilmennytkään', 'sen', 'sijaan', 'todella', 'kauheat', 'luonnonkatastrofit', 'koettelivat', 'kansalaisia', 'joissakin', 'unionimme', 'maissa'], 2), (['te', 'olette', 'esittäneet', 'toiveen', 'että', 'tästä', 'asiasta', 'keskusteltaisiin', 'lähipäivinä', 'tämän', 'istuntojakson', 'aikana'], 3), (['sillä', 'välin', 'toivoisin', 'kuten', 'useampi', 'kollega', 'on', 'minulle', 'esittänytkin', 'että', 'viettäisimme', 'minuutin', 'hiljaisuuden', 'kaikkien', 'niiden', 'uhrien', 'muistoksi', 'jotka', 'saivat', 'surmansa', 'useita', 'euroopan', 'unionin', 'maita', 'koetelleissa', 'myrskyissä'], 4), (['kehotan', 'että', 'nousette', 'seisomaan', 'tämän', 'minuutin', 'hiljaisuuden', 'ajaksi'], 5), (['parlamentti', 'vietti', 'seisaallaan', 'minuutin', 'hiljaisuuden'], 6), (['arvoisa', 'puhemies', 'käytän', 'työjärjestyspuheenvuoron'], 7), (['olette', 'varmaan', 'saaneet', 'tietoonne', 'lehdistön', 'ja', 'television', 'kautta', 'että', 'sri', 'lankassa', 'on', 'sattunut', 'useita', 'kuolemaan', 'johtaneita', 'pommi', 'iskuja'], 8), (['näiden', 'sri', 'lankassa', 'aivan', 'äskettäin', 'surmansa', 'saaneiden', 'ihmisten', 'joukossa', 'on', 'kumar', 'ponnambalam', 'joka', 'vieraili', 'parlamentissa', 'vain', 'pari', 'kuukautta', 'sitten'], 9)]\n"
     ]
    },
    {
     "name": "stderr",
     "output_type": "stream",
     "text": [
      "                                                                                \r"
     ]
    }
   ],
   "source": [
    "EN_1=preprocess_EN.zipWithIndex()\n",
    "print(EN_1.take(10))\n",
    "FI_1=preprocess_FI.zipWithIndex()\n",
    "print(FI_1.take(10))\n",
    "\n"
   ]
  },
  {
   "cell_type": "markdown",
   "id": "2ebd8614-0789-4db3-82f2-a4bd805a7b8a",
   "metadata": {},
   "source": [
    "### 2. Swap the key and value - so that the line number is the key."
   ]
  },
  {
   "cell_type": "code",
   "execution_count": 101,
   "id": "e4abd928-71ee-48eb-971e-dcd510fc4963",
   "metadata": {},
   "outputs": [
    {
     "name": "stderr",
     "output_type": "stream",
     "text": [
      "[Stage 165:>                                                        (0 + 1) / 1]\r"
     ]
    },
    {
     "name": "stdout",
     "output_type": "stream",
     "text": [
      "[(0, ['resumption', 'of', 'the', 'session']), (1, ['i', 'declare', 'resumed', 'the', 'session', 'of', 'the', 'european', 'parliament', 'adjourned', 'on', 'friday', '17', 'december', '1999', 'and', 'i', 'would', 'like', 'once', 'again', 'to', 'wish', 'you', 'a', 'happy', 'new', 'year', 'in', 'the', 'hope', 'that', 'you', 'enjoyed', 'a', 'pleasant', 'festive', 'period']), (2, ['although', 'as', 'you', 'will', 'have', 'seen', 'the', 'dreaded', 'millennium', 'bug', 'failed', 'to', 'materialise', 'still', 'the', 'people', 'in', 'a', 'number', 'of', 'countries', 'suffered', 'a', 'series', 'of', 'natural', 'disasters', 'that', 'truly', 'were', 'dreadful']), (3, ['you', 'have', 'requested', 'a', 'debate', 'on', 'this', 'subject', 'in', 'the', 'course', 'of', 'the', 'next', 'few', 'days', 'during', 'this', 'part', 'session']), (4, ['in', 'the', 'meantime', 'i', 'should', 'like', 'to', 'observe', 'a', 'minute', 's', 'silence', 'as', 'a', 'number', 'of', 'members', 'have', 'requested', 'on', 'behalf', 'of', 'all', 'the', 'victims', 'concerned', 'particularly', 'those', 'of', 'the', 'terrible', 'storms', 'in', 'the', 'various', 'countries', 'of', 'the', 'european', 'union']), (5, ['please', 'rise', 'then', 'for', 'this', 'minute', 's', 'silence']), (6, ['the', 'house', 'rose', 'and', 'observed', 'a', 'minute', 's', 'silence']), (7, ['madam', 'president', 'on', 'a', 'point', 'of', 'order']), (8, ['you', 'will', 'be', 'aware', 'from', 'the', 'press', 'and', 'television', 'that', 'there', 'have', 'been', 'a', 'number', 'of', 'bomb', 'explosions', 'and', 'killings', 'in', 'sri', 'lanka']), (9, ['one', 'of', 'the', 'people', 'assassinated', 'very', 'recently', 'in', 'sri', 'lanka', 'was', 'mr', 'kumar', 'ponnambalam', 'who', 'had', 'visited', 'the', 'european', 'parliament', 'just', 'a', 'few', 'months', 'ago'])] [(0, ['istuntokauden', 'uudelleenavaaminen']), (1, ['julistan', 'perjantaina', 'joulukuun', '17', 'päivänä', 'keskeytetyn', 'euroopan', 'parlamentin', 'istunnon', 'avatuksi', 'ja', 'esitän', 'vielä', 'kerran', 'vilpittömän', 'toiveeni', 'siitä', 'että', 'teillä', 'olisi', 'ollut', 'oikein', 'mukava', 'joululoma']), (2, ['kuten', 'olette', 'varmaan', 'saattaneet', 'huomata', 'vuodenvaihteeseen', '2000', 'povattuja', 'suuria', 'tietokoneongelmia', 'ei', 'ilmennytkään', 'sen', 'sijaan', 'todella', 'kauheat', 'luonnonkatastrofit', 'koettelivat', 'kansalaisia', 'joissakin', 'unionimme', 'maissa']), (3, ['te', 'olette', 'esittäneet', 'toiveen', 'että', 'tästä', 'asiasta', 'keskusteltaisiin', 'lähipäivinä', 'tämän', 'istuntojakson', 'aikana']), (4, ['sillä', 'välin', 'toivoisin', 'kuten', 'useampi', 'kollega', 'on', 'minulle', 'esittänytkin', 'että', 'viettäisimme', 'minuutin', 'hiljaisuuden', 'kaikkien', 'niiden', 'uhrien', 'muistoksi', 'jotka', 'saivat', 'surmansa', 'useita', 'euroopan', 'unionin', 'maita', 'koetelleissa', 'myrskyissä']), (5, ['kehotan', 'että', 'nousette', 'seisomaan', 'tämän', 'minuutin', 'hiljaisuuden', 'ajaksi']), (6, ['parlamentti', 'vietti', 'seisaallaan', 'minuutin', 'hiljaisuuden']), (7, ['arvoisa', 'puhemies', 'käytän', 'työjärjestyspuheenvuoron']), (8, ['olette', 'varmaan', 'saaneet', 'tietoonne', 'lehdistön', 'ja', 'television', 'kautta', 'että', 'sri', 'lankassa', 'on', 'sattunut', 'useita', 'kuolemaan', 'johtaneita', 'pommi', 'iskuja']), (9, ['näiden', 'sri', 'lankassa', 'aivan', 'äskettäin', 'surmansa', 'saaneiden', 'ihmisten', 'joukossa', 'on', 'kumar', 'ponnambalam', 'joka', 'vieraili', 'parlamentissa', 'vain', 'pari', 'kuukautta', 'sitten'])]\n"
     ]
    },
    {
     "name": "stderr",
     "output_type": "stream",
     "text": [
      "                                                                                \r"
     ]
    }
   ],
   "source": [
    "EN_2=EN_1.map(lambda i: (i[1],i[0]))\n",
    "FI_2=FI_1.map(lambda i: (i[1],i[0]))\n",
    "print(EN_2.take(10),FI_2.take(10))"
   ]
  },
  {
   "cell_type": "markdown",
   "id": "6b13e140-41e0-4fea-aa6c-3fde5d15ad85",
   "metadata": {},
   "source": [
    "### 3. Join the two RDDs together according to the line number key, so you have pairs of matching lines."
   ]
  },
  {
   "cell_type": "code",
   "execution_count": 102,
   "id": "99066e72-3804-41ba-9ad0-cf3a83ef80f8",
   "metadata": {},
   "outputs": [
    {
     "name": "stderr",
     "output_type": "stream",
     "text": [
      "[Stage 167:>                                                        (0 + 1) / 1]\r"
     ]
    },
    {
     "name": "stdout",
     "output_type": "stream",
     "text": [
      "[(20922, (['finally', 'mr', 'president', 'we', 'have', 'to', 'guarantee', 'a', 'combination', 'of', 'policies', 'which', 'promote', 'growth', 'and', 'employment', 'guarantee', 'macroeconomic', 'security', 'and', 'the', 'consolidation', 'of', 'the', 'euro', 'which', 'promote', 'growth', 'and', 'the', 'transition', 'towards', 'a', 'society', 'and', 'economy', 'of', 'innovation', 'and', 'knowledge'], ['arvoisa', 'puhemies', 'päätän', 'sanomalla', 'että', 'meidän', 'on', 'taattava', 'sellaisten', 'politiikkojen', 'yhdistelmä', 'jotka', 'suosivat', 'kasvua', 'ja', 'työllisyyttä', 'varmistavat', 'makrotaloudellisen', 'vakauden', 'ja', 'vahvistavat', 'euroa', 'jotka', 'edistävät', 'kasvua', 'ja', 'siirtymistä', 'innovaatioiden', 'sekä', 'tietojen', 'ja', 'taitojen', 'yhteiskuntaan', 'ja', 'talouteen'])), (21528, (['the', 'damage', 'caused', 'by', 'lorries', 'in', 'traffic', 'accidents', 'is', 'more', 'often', 'than', 'not', 'considerable', 'and', 'the', 'state', 'of', 'vehicles', 'is', 'very', 'patchy', 'in', 'different', 'parts', 'of', 'europe', 'so', 'pan', 'european', 'legislation', 'and', 'strict', 'compliance', 'with', 'it', 'will', 'be', 'of', 'benefit', 'to', 'each', 'and', 'every', 'person', 'on', 'the', 'road'], ['liikenneonnettomuuteen', 'joutuneiden', 'kuorma', 'autojen', 'aiheuttamat', 'vahingot', 'ovat', 'useimmiten', 'huomattavan', 'suuret', 'ja', 'autojen', 'kunto', 'on', 'varsin', 'kirjavaa', 'eri', 'puolilla', 'eurooppaa', 'joten', 'yleiseurooppalainen', 'lainsäädäntö', 'ja', 'sen', 'tinkimätön', 'noudattaminen', 'on', 'joka', 'ikisen', 'tiellä', 'liikkuvan', 'etu'])), (22692, (['fundamental', 'rights', 'are', 'of', 'secondary', 'importance', 'in', 'treaties', 'these', 'days'], ['perusoikeudet', 'ovat', 'nykyisissä', 'sopimuksissa', 'toisarvoisessa', 'asemassa'])), (45732, (['thank', 'you', 'very', 'much', 'mrs', 'morgan'], ['paljon', 'kiitoksia', 'jäsen', 'morgan'])), (46338, (['the', 'next', 'item', 'is', 'the', 'debate', 'on', 'the', 'report', 'a5', '0065', '2000', 'by', 'mr', 'deva', 'on', 'behalf', 'of', 'the', 'committee', 'on', 'development', 'and', 'cooperation', 'on', 'the', 'proposal', 'for', 'a', 'european', 'parliament', 'and', 'council', 'regulation', 'ec', 'extending', 'regulation', 'ec', 'no', '443', '97', 'on', 'operations', 'to', 'aid', 'uprooted', 'people', 'in', 'asian', 'and', 'latin', 'american', 'developing', 'countries', 'com', '1999', '443', 'c5', '0146', '1999', '1999', '0194', 'cod'], ['esityslistalla', 'on', 'seuraavana', 'devan', 'laatima', 'kehitysyhteistyövaliokunnan', 'mietintö', 'a5', '0065', '2000', 'ehdotuksesta', 'euroopan', 'parlamentin', 'ja', 'neuvoston', 'asetukseksi', 'siirtymään', 'joutuneiden', 'väestöryhmien', 'avustamista', 'aasian', 'ja', 'latinalaisen', 'amerikan', 'kehitysmaissa', 'koskevista', 'toimista', 'annetun', 'neuvoston', 'asetuksen', 'ey', 'n', 'o', '443', '97', 'voimassaolon', 'pidentämisestä', 'kom', '1999', '443', 'c5', '0146', '1999', '1999', '0194', 'cod'])), (55722, (['i', 'am', 'pleased', 'with', 'the', 'amendment', 'tabled', 'by', 'the', 'ppe', 'de', 'delegate', 'mrs', 'smet', 'who', 'advocates', 'that', 'the', 'directive', 'should', 'also', 'apply', 'to', 'elections', 'of', 'employees', 'representatives', 'in', 'works', 'councils', 'for', 'example'], ['olen', 'tyytyväinen', 'ppe', 'n', 'kollega', 'smetin', 'tarkistukseen', 'jossa', 'sanotaan', 'että', 'direktiivissä', 'tulee', 'mainita', 'myös', 'esimerkiksi', 'työntekijöiden', 'valinta', 'työpaikkaneuvostoihin'])), (62904, (['between', '1990', 'and', '1999', 'this', 'system', 'led', 'to', 'expenditure', 'totalling', 'eur', '725', 'million'], ['vuosina', '1990', '1999', 'tämän', 'järjestelmän', 'perusteella', 'pantiin', 'täytäntöön', 'yhteensä', '725', 'miljoonan', 'euron', 'menot'])), (79368, (['for', 'example', 'in', 'the', 'case', 'of', 'mauritius', 'there', 'is', 'an', 'increase', 'in', 'the', 'amount', 'that', 'shipowners', 'are', 'to', 'pay', 'for', 'licences', 'of', 'eur', '5', 'per', 'tonne', 'of', 'fish', 'that', 'is', 'to', 'say', 'they', 'are', 'increased', 'from', 'eur', '20', 'to', 'eur', '25', 'and', 'there', 'is', 'also', 'an', 'equivalent', 'increase', 'in', 'the', 'case', 'of', 'catches', 'by', 'ship'], ['esimerkiksi', 'mauritiuksen', 'tapauksessa', 'laivanvarustajien', 'maksettavaksi', 'koituvat', 'maksut', 'kalatonnia', 'kohden', 'nousevat', '5', 'euroa', 'eli', 'maksu', 'nousee', '20', 'sta', '25', 'een', 'euroon', 'ja', 'vastaava', 'aluskohtainen', 'pyyntimäärä', 'nousee', 'samoin'])), (80532, (['i', 'would', 'like', 'to', 'thank', 'everyone', 'and', 'my', 'fellow', 'committee', 'members', 'in', 'particular'], ['vielä', 'kerran', 'kiitokseni', 'kaikille', 'ja', 'erityisesti', 'kollegoilleni'])), (81138, (['the', 'citizens', 'of', 'europe', 'have', 'the', 'right', 'to', 'see', 'that', 'europe', 'exists', 'and', 'we', 'have', 'the', 'means', 'to', 'show', 'them', 'easily', 'through', 'european', 'television', 'programmes'], ['euroopan', 'kansalaisilla', 'on', 'oikeus', 'nähdä', 'että', 'euroopan', 'unioni', 'on', 'olemassa', 'ja', 'tämän', 'me', 'voimme', 'helposti', 'toteuttaa', 'eurooppalaisten', 'televisio', 'ohjelmien', 'avulla']))]\n"
     ]
    },
    {
     "name": "stderr",
     "output_type": "stream",
     "text": [
      "                                                                                \r"
     ]
    }
   ],
   "source": [
    "ENFI_transcript=EN_2.join(FI_2)\n",
    "print(ENFI_transcript.take(10))"
   ]
  },
  {
   "cell_type": "markdown",
   "id": "2a761964-bfcd-4c46-8a9b-97aac5a2a204",
   "metadata": {},
   "source": [
    "### 4. Filter to exclude line pairs that have an empty/missing “corresponding” sentence"
   ]
  },
  {
   "cell_type": "code",
   "execution_count": 103,
   "id": "48d4ec13-2439-4bfb-ad99-6440b11494b1",
   "metadata": {},
   "outputs": [
    {
     "name": "stderr",
     "output_type": "stream",
     "text": [
      "[Stage 169:>                                                        (0 + 1) / 1]\r"
     ]
    },
    {
     "name": "stdout",
     "output_type": "stream",
     "text": [
      "[(20922, (['finally', 'mr', 'president', 'we', 'have', 'to', 'guarantee', 'a', 'combination', 'of', 'policies', 'which', 'promote', 'growth', 'and', 'employment', 'guarantee', 'macroeconomic', 'security', 'and', 'the', 'consolidation', 'of', 'the', 'euro', 'which', 'promote', 'growth', 'and', 'the', 'transition', 'towards', 'a', 'society', 'and', 'economy', 'of', 'innovation', 'and', 'knowledge'], ['arvoisa', 'puhemies', 'päätän', 'sanomalla', 'että', 'meidän', 'on', 'taattava', 'sellaisten', 'politiikkojen', 'yhdistelmä', 'jotka', 'suosivat', 'kasvua', 'ja', 'työllisyyttä', 'varmistavat', 'makrotaloudellisen', 'vakauden', 'ja', 'vahvistavat', 'euroa', 'jotka', 'edistävät', 'kasvua', 'ja', 'siirtymistä', 'innovaatioiden', 'sekä', 'tietojen', 'ja', 'taitojen', 'yhteiskuntaan', 'ja', 'talouteen'])), (21528, (['the', 'damage', 'caused', 'by', 'lorries', 'in', 'traffic', 'accidents', 'is', 'more', 'often', 'than', 'not', 'considerable', 'and', 'the', 'state', 'of', 'vehicles', 'is', 'very', 'patchy', 'in', 'different', 'parts', 'of', 'europe', 'so', 'pan', 'european', 'legislation', 'and', 'strict', 'compliance', 'with', 'it', 'will', 'be', 'of', 'benefit', 'to', 'each', 'and', 'every', 'person', 'on', 'the', 'road'], ['liikenneonnettomuuteen', 'joutuneiden', 'kuorma', 'autojen', 'aiheuttamat', 'vahingot', 'ovat', 'useimmiten', 'huomattavan', 'suuret', 'ja', 'autojen', 'kunto', 'on', 'varsin', 'kirjavaa', 'eri', 'puolilla', 'eurooppaa', 'joten', 'yleiseurooppalainen', 'lainsäädäntö', 'ja', 'sen', 'tinkimätön', 'noudattaminen', 'on', 'joka', 'ikisen', 'tiellä', 'liikkuvan', 'etu'])), (22692, (['fundamental', 'rights', 'are', 'of', 'secondary', 'importance', 'in', 'treaties', 'these', 'days'], ['perusoikeudet', 'ovat', 'nykyisissä', 'sopimuksissa', 'toisarvoisessa', 'asemassa'])), (45732, (['thank', 'you', 'very', 'much', 'mrs', 'morgan'], ['paljon', 'kiitoksia', 'jäsen', 'morgan'])), (46338, (['the', 'next', 'item', 'is', 'the', 'debate', 'on', 'the', 'report', 'a5', '0065', '2000', 'by', 'mr', 'deva', 'on', 'behalf', 'of', 'the', 'committee', 'on', 'development', 'and', 'cooperation', 'on', 'the', 'proposal', 'for', 'a', 'european', 'parliament', 'and', 'council', 'regulation', 'ec', 'extending', 'regulation', 'ec', 'no', '443', '97', 'on', 'operations', 'to', 'aid', 'uprooted', 'people', 'in', 'asian', 'and', 'latin', 'american', 'developing', 'countries', 'com', '1999', '443', 'c5', '0146', '1999', '1999', '0194', 'cod'], ['esityslistalla', 'on', 'seuraavana', 'devan', 'laatima', 'kehitysyhteistyövaliokunnan', 'mietintö', 'a5', '0065', '2000', 'ehdotuksesta', 'euroopan', 'parlamentin', 'ja', 'neuvoston', 'asetukseksi', 'siirtymään', 'joutuneiden', 'väestöryhmien', 'avustamista', 'aasian', 'ja', 'latinalaisen', 'amerikan', 'kehitysmaissa', 'koskevista', 'toimista', 'annetun', 'neuvoston', 'asetuksen', 'ey', 'n', 'o', '443', '97', 'voimassaolon', 'pidentämisestä', 'kom', '1999', '443', 'c5', '0146', '1999', '1999', '0194', 'cod'])), (55722, (['i', 'am', 'pleased', 'with', 'the', 'amendment', 'tabled', 'by', 'the', 'ppe', 'de', 'delegate', 'mrs', 'smet', 'who', 'advocates', 'that', 'the', 'directive', 'should', 'also', 'apply', 'to', 'elections', 'of', 'employees', 'representatives', 'in', 'works', 'councils', 'for', 'example'], ['olen', 'tyytyväinen', 'ppe', 'n', 'kollega', 'smetin', 'tarkistukseen', 'jossa', 'sanotaan', 'että', 'direktiivissä', 'tulee', 'mainita', 'myös', 'esimerkiksi', 'työntekijöiden', 'valinta', 'työpaikkaneuvostoihin'])), (62904, (['between', '1990', 'and', '1999', 'this', 'system', 'led', 'to', 'expenditure', 'totalling', 'eur', '725', 'million'], ['vuosina', '1990', '1999', 'tämän', 'järjestelmän', 'perusteella', 'pantiin', 'täytäntöön', 'yhteensä', '725', 'miljoonan', 'euron', 'menot'])), (79368, (['for', 'example', 'in', 'the', 'case', 'of', 'mauritius', 'there', 'is', 'an', 'increase', 'in', 'the', 'amount', 'that', 'shipowners', 'are', 'to', 'pay', 'for', 'licences', 'of', 'eur', '5', 'per', 'tonne', 'of', 'fish', 'that', 'is', 'to', 'say', 'they', 'are', 'increased', 'from', 'eur', '20', 'to', 'eur', '25', 'and', 'there', 'is', 'also', 'an', 'equivalent', 'increase', 'in', 'the', 'case', 'of', 'catches', 'by', 'ship'], ['esimerkiksi', 'mauritiuksen', 'tapauksessa', 'laivanvarustajien', 'maksettavaksi', 'koituvat', 'maksut', 'kalatonnia', 'kohden', 'nousevat', '5', 'euroa', 'eli', 'maksu', 'nousee', '20', 'sta', '25', 'een', 'euroon', 'ja', 'vastaava', 'aluskohtainen', 'pyyntimäärä', 'nousee', 'samoin'])), (80532, (['i', 'would', 'like', 'to', 'thank', 'everyone', 'and', 'my', 'fellow', 'committee', 'members', 'in', 'particular'], ['vielä', 'kerran', 'kiitokseni', 'kaikille', 'ja', 'erityisesti', 'kollegoilleni'])), (81138, (['the', 'citizens', 'of', 'europe', 'have', 'the', 'right', 'to', 'see', 'that', 'europe', 'exists', 'and', 'we', 'have', 'the', 'means', 'to', 'show', 'them', 'easily', 'through', 'european', 'television', 'programmes'], ['euroopan', 'kansalaisilla', 'on', 'oikeus', 'nähdä', 'että', 'euroopan', 'unioni', 'on', 'olemassa', 'ja', 'tämän', 'me', 'voimme', 'helposti', 'toteuttaa', 'eurooppalaisten', 'televisio', 'ohjelmien', 'avulla']))]\n"
     ]
    },
    {
     "name": "stderr",
     "output_type": "stream",
     "text": [
      "                                                                                \r"
     ]
    }
   ],
   "source": [
    "ENFI_filter1=ENFI_transcript.filter(lambda i: i[1][0]!=[] and i[1][1]!=[])\n",
    "print(ENFI_filter1.take(10))\n"
   ]
  },
  {
   "cell_type": "markdown",
   "id": "da8498ba-8cac-4c8b-a97f-78e6efd3c394",
   "metadata": {},
   "source": [
    "### 5. Filter to leave only pairs of sentences with a small number of words per sentence, this should give a more reliable translation."
   ]
  },
  {
   "cell_type": "code",
   "execution_count": 104,
   "id": "206c53a6-0d93-42db-923f-88bcfe2e7b34",
   "metadata": {},
   "outputs": [
    {
     "name": "stderr",
     "output_type": "stream",
     "text": [
      "[Stage 171:>                                                        (0 + 1) / 1]\r"
     ]
    },
    {
     "name": "stdout",
     "output_type": "stream",
     "text": [
      "[(927948, (['a', 'new', 'approach', 'is', 'needed'], ['vaadimme', 'uutta', 'lähtökohtaa'])), (990144, (['many', 'speakers', 'expressed', 'their', 'wish', 'for', 'a', 'social', 'europe'], ['useat', 'puhujat', 'ilmaisivat', 'toivovansa', 'sosiaalista', 'eurooppaa'])), (1075812, (['however', 'that', 'is', 'not', 'all'], ['tämä', 'ei', 'ole', 'vielä', 'kaikki', 'pakotteet', 'ovat', 'väline'])), (1081746, (['this', 'is', 'an', 'area', 'where', 'more', 'work', 'is', 'needed'], ['tällä', 'alalla', 'on', 'tehtävä', 'enemmän', 'työtä'])), (1092276, (['that', 'should', 'be', 'made', 'clear', 'outside', 'the', 'eu'], ['tämä', 'pitäisi', 'tehdä', 'selväksi', 'eu', 'n', 'ulkopuolella'])), (1147932, (['international', 'attention', 'tends', 'to', 'focus', 'on', 'other', 'things'], ['kansainvälinen', 'huomio', 'tapaa', 'kiinnittyä', 'muihin', 'asioihin'])), (1220658, (['applause'], ['suosionosoituksia'])), (1230582, (['i', 'have', 'just', 'one', 'other', 'query'], ['minulla', 'on', 'vielä', 'yksi', 'toinen', 'kysymys'])), (1244322, (['please', 'let', 'science', 'dictate'], ['annetaan', 'tieteen', 'määrätä'])), (1294548, (['i', 'have', 'a', 'weekly', 'meeting', 'with', 'president', 'barroso'], ['tapaan', 'puheenjohtaja', 'barroson', 'viikoittain']))]\n"
     ]
    },
    {
     "name": "stderr",
     "output_type": "stream",
     "text": [
      "                                                                                \r"
     ]
    }
   ],
   "source": [
    "ENFI_filter2=ENFI_filter1.filter(lambda i: len(i[1][0])<=9 and len(i[1][1])<=9)\n",
    "print(ENFI_filter2.take(10))"
   ]
  },
  {
   "cell_type": "markdown",
   "id": "b61ba84e-7e39-42b6-b731-ba1fe056f116",
   "metadata": {},
   "source": [
    "### 6. Filter to leave only pairs of sentences with the same number of words in each sentence."
   ]
  },
  {
   "cell_type": "code",
   "execution_count": 105,
   "id": "05d8d481-9fbd-44ec-b74b-4b4d577dd470",
   "metadata": {},
   "outputs": [
    {
     "name": "stderr",
     "output_type": "stream",
     "text": [
      "[Stage 173:>                                                        (0 + 1) / 1]\r"
     ]
    },
    {
     "name": "stdout",
     "output_type": "stream",
     "text": [
      "[(987096, (['written', 'statements', 'rule', '142'], ['kirjalliset', 'kannanotot', '142', 'artikla'])), (1084026, (['welcome'], ['tervetulotoivotukset'])), (1264920, (['these', 'are', 'very', 'complicated', 'scientific', 'issues'], ['nämä', 'ovat', 'hyvin', 'monimutkaisia', 'tieteellisiä', 'kysymyksiä'])), (1272018, (['this', 'situation', 'must', 'change'], ['tämän', 'tilanteen', 'on', 'muututtava'])), (1355208, (['imports', 'are', 'necessary'], ['tuonti', 'on', 'välttämätöntä'])), (1639674, (['i', 'think', 'we', 'can', 'be', 'reasonably', 'optimistic'], ['lisäksi', 'arvoisa', 'puhemies', 'mielestäni', 'pitää', 'olla', 'optimistinen'])), (1130190, (['however', 'it', 'must', 'be', 'economically', 'sustainable'], ['sen', 'täytyy', 'kuitenkin', 'olla', 'taloudellisesti', 'kestävää'])), (902526, (['6'], ['6'])), (910848, (['the', 'status', 'quo', 'is', 'not', 'sustainable'], ['status', 'quo', 'ei', 'ole', 'kestävä', 'ratkaisu'])), (953808, (['14'], ['14']))]\n"
     ]
    },
    {
     "name": "stderr",
     "output_type": "stream",
     "text": [
      "                                                                                \r"
     ]
    }
   ],
   "source": [
    "ENFI_filter3=ENFI_filter2.filter(lambda i: len(i[1][0]) == len(i[1][1]))\n",
    "print(ENFI_filter3.take(10))\n"
   ]
  },
  {
   "cell_type": "markdown",
   "id": "e158cead-0c0f-448b-9033-3832a28b63c0",
   "metadata": {},
   "source": [
    "### 7. For each sentence pair, map so that you pair each (in order) word in the two sentences. We no longer need the line numbers. (hint: use python’s built in zip()function)"
   ]
  },
  {
   "cell_type": "code",
   "execution_count": 106,
   "id": "1577724c-b8bb-4e22-a197-72339252f4e1",
   "metadata": {},
   "outputs": [
    {
     "name": "stderr",
     "output_type": "stream",
     "text": [
      "[Stage 175:>                                                        (0 + 1) / 1]\r"
     ]
    },
    {
     "name": "stdout",
     "output_type": "stream",
     "text": [
      "[[('report', 'klichin'), ('klich', 'mietintö')], [('why', 'miksi'), ('not', 'ei')], [('however', 'tämä'), ('this', 'vuosi'), ('year', 'ei'), ('is', 'kuitenkaan'), ('no', 'ole'), ('ordinary', 'tavallinen'), ('year', 'vuosi')], [('applause', 'suosionosoituksia')], [('the', 'kysymys'), ('question', 'palestiinalaisten'), ('of', 'keskinäisen'), ('palestinian', 'sovinnon'), ('reconciliation', 'löytymisestä'), ('will', 'on'), ('also', 'myös'), ('be', 'keskeisellä'), ('central', 'sijalla')], [('1', '1')], [('right', 'metsät'), ('now', 'tarvitsevat'), ('forests', 'juuri'), ('need', 'nyt'), ('even', 'entistä'), ('more', 'enemmän'), ('protection', 'suojelua')], [('7', '7')], [('7', '7')], [('noise', 'hälinää')]]\n"
     ]
    },
    {
     "name": "stderr",
     "output_type": "stream",
     "text": [
      "                                                                                \r"
     ]
    }
   ],
   "source": [
    "ENFI_filter4 = ENFI_filter3.map(lambda i: list(zip(i[1][0],i[1][1])))\n",
    "print(ENFI_filter4.take(10))"
   ]
  },
  {
   "cell_type": "markdown",
   "id": "e458e9a4-9426-4f41-93d6-ada8fcabba91",
   "metadata": {},
   "source": [
    "### 8. Use reduce to count the number of occurrences of the word-translation-pairs."
   ]
  },
  {
   "cell_type": "code",
   "execution_count": 113,
   "id": "d066545d-78b7-4435-8420-ab677db8f074",
   "metadata": {},
   "outputs": [
    {
     "name": "stderr",
     "output_type": "stream",
     "text": [
      "[Stage 180:===============================================>         (5 + 1) / 6]\r"
     ]
    },
    {
     "name": "stdout",
     "output_type": "stream",
     "text": [
      "the most frequently occured words in English and Finnish transcript are :\n",
      "                            word  count\n",
      "0                       (is, on)   4237\n",
      "1  (applause, suosionosoituksia)   3626\n",
      "2                      (and, ja)   1464\n",
      "3                   (this, tämä)   1235\n",
      "4             (report, mietintö)   1221\n",
      "5           (debate, keskustelu)   1001\n",
      "6                       (is, ei)    883\n",
      "7            (closed, päättynyt)    881\n",
      "8                       (it, se)    847\n",
      "9                     (not, ole)    784\n"
     ]
    },
    {
     "name": "stderr",
     "output_type": "stream",
     "text": [
      "                                                                                \r"
     ]
    }
   ],
   "source": [
    "red_occurance = word_occurance(ENFI_filter4)#calling reduce function to count number of occurences."
   ]
  },
  {
   "cell_type": "markdown",
   "id": "2be6fd27-a428-4014-a3a8-6cbb9c039687",
   "metadata": {},
   "source": [
    "### 9.Print some of the most frequently occurring pairs of words."
   ]
  },
  {
   "cell_type": "code",
   "execution_count": 112,
   "id": "59b44466-6866-479b-a8a1-e11a23462904",
   "metadata": {},
   "outputs": [
    {
     "name": "stdout",
     "output_type": "stream",
     "text": [
      "the most frequently occured words in English and Finnish transcript are :\n",
      "                            word  count\n",
      "0                       (is, on)   4237\n",
      "1  (applause, suosionosoituksia)   3626\n",
      "2                      (and, ja)   1464\n",
      "3                   (this, tämä)   1235\n",
      "4             (report, mietintö)   1221\n",
      "5           (debate, keskustelu)   1001\n",
      "6                       (is, ei)    883\n",
      "7            (closed, päättynyt)    881\n",
      "8                       (it, se)    847\n",
      "9                     (not, ole)    784\n"
     ]
    }
   ],
   "source": [
    "print(\"the most frequently occured words in English and Finnish transcript are :\")\n",
    "X=pd.DataFrame(red_occurance,columns=[\"word\",\"count\"])\n",
    "print(X)"
   ]
  },
  {
   "cell_type": "markdown",
   "id": "fee6a854-805d-41d3-92d5-ff190c61a723",
   "metadata": {},
   "source": [
    "### Do your translations seem reasonable? Use a dictionary to check a few (don’t worry, you won’t be marked down for incorrect translations)."
   ]
  },
  {
   "cell_type": "markdown",
   "id": "8682a947-3edd-40f7-ba12-3ee863bda9ff",
   "metadata": {},
   "source": [
    "The translation seems to be happening correctly for about 70%, checked with google translator. The word päättynyt means finish but it is showing as closed(which is almost the same).The other translations seems to perfect and reasonable."
   ]
  },
  {
   "cell_type": "code",
   "execution_count": 115,
   "id": "952d89de-706d-44df-bc76-bf0e5a74b62a",
   "metadata": {},
   "outputs": [],
   "source": [
    "spark_context.stop()"
   ]
  }
 ],
 "metadata": {
  "kernelspec": {
   "display_name": "Python 3 (ipykernel)",
   "language": "python",
   "name": "python3"
  },
  "language_info": {
   "codemirror_mode": {
    "name": "ipython",
    "version": 3
   },
   "file_extension": ".py",
   "mimetype": "text/x-python",
   "name": "python",
   "nbconvert_exporter": "python",
   "pygments_lexer": "ipython3",
   "version": "3.8.10"
  }
 },
 "nbformat": 4,
 "nbformat_minor": 5
}
